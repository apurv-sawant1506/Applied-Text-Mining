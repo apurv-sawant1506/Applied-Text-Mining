{
 "cells": [
  {
   "cell_type": "code",
   "execution_count": 1,
   "metadata": {},
   "outputs": [],
   "source": [
    "import pandas as pd\n",
    "import re"
   ]
  },
  {
   "cell_type": "markdown",
   "metadata": {},
   "source": [
    "### Creating Dummy Dataframe containing dates in various styles:"
   ]
  },
  {
   "cell_type": "code",
   "execution_count": 2,
   "metadata": {},
   "outputs": [
    {
     "data": {
      "text/html": [
       "<div>\n",
       "<style scoped>\n",
       "    .dataframe tbody tr th:only-of-type {\n",
       "        vertical-align: middle;\n",
       "    }\n",
       "\n",
       "    .dataframe tbody tr th {\n",
       "        vertical-align: top;\n",
       "    }\n",
       "\n",
       "    .dataframe thead th {\n",
       "        text-align: right;\n",
       "    }\n",
       "</style>\n",
       "<table border=\"1\" class=\"dataframe\">\n",
       "  <thead>\n",
       "    <tr style=\"text-align: right;\">\n",
       "      <th></th>\n",
       "      <th>text</th>\n",
       "    </tr>\n",
       "  </thead>\n",
       "  <tbody>\n",
       "    <tr>\n",
       "      <th>0</th>\n",
       "      <td>04/20/2009</td>\n",
       "    </tr>\n",
       "    <tr>\n",
       "      <th>1</th>\n",
       "      <td>04/20/09</td>\n",
       "    </tr>\n",
       "    <tr>\n",
       "      <th>2</th>\n",
       "      <td>4/20/09</td>\n",
       "    </tr>\n",
       "    <tr>\n",
       "      <th>3</th>\n",
       "      <td>4/3/09</td>\n",
       "    </tr>\n",
       "    <tr>\n",
       "      <th>4</th>\n",
       "      <td>Mar-20-2009</td>\n",
       "    </tr>\n",
       "    <tr>\n",
       "      <th>5</th>\n",
       "      <td>Mar 20, 2009</td>\n",
       "    </tr>\n",
       "    <tr>\n",
       "      <th>6</th>\n",
       "      <td>March 20, 2009</td>\n",
       "    </tr>\n",
       "    <tr>\n",
       "      <th>7</th>\n",
       "      <td>Mar. 20, 2009</td>\n",
       "    </tr>\n",
       "    <tr>\n",
       "      <th>8</th>\n",
       "      <td>Mar 20 2009</td>\n",
       "    </tr>\n",
       "    <tr>\n",
       "      <th>9</th>\n",
       "      <td>20 Mar 2009</td>\n",
       "    </tr>\n",
       "    <tr>\n",
       "      <th>10</th>\n",
       "      <td>20 March 2009</td>\n",
       "    </tr>\n",
       "    <tr>\n",
       "      <th>11</th>\n",
       "      <td>20 Mar. 2009</td>\n",
       "    </tr>\n",
       "    <tr>\n",
       "      <th>12</th>\n",
       "      <td>20 March, 2009</td>\n",
       "    </tr>\n",
       "    <tr>\n",
       "      <th>13</th>\n",
       "      <td>Mar 20th, 2009</td>\n",
       "    </tr>\n",
       "    <tr>\n",
       "      <th>14</th>\n",
       "      <td>Mar 21st, 2009</td>\n",
       "    </tr>\n",
       "    <tr>\n",
       "      <th>15</th>\n",
       "      <td>Mar 22nd, 2009</td>\n",
       "    </tr>\n",
       "    <tr>\n",
       "      <th>16</th>\n",
       "      <td>Feb 2009</td>\n",
       "    </tr>\n",
       "    <tr>\n",
       "      <th>17</th>\n",
       "      <td>Sep 2009</td>\n",
       "    </tr>\n",
       "    <tr>\n",
       "      <th>18</th>\n",
       "      <td>Oct 2010</td>\n",
       "    </tr>\n",
       "    <tr>\n",
       "      <th>19</th>\n",
       "      <td>6/2008</td>\n",
       "    </tr>\n",
       "    <tr>\n",
       "      <th>20</th>\n",
       "      <td>12/2009</td>\n",
       "    </tr>\n",
       "    <tr>\n",
       "      <th>21</th>\n",
       "      <td>2009</td>\n",
       "    </tr>\n",
       "    <tr>\n",
       "      <th>22</th>\n",
       "      <td>2010</td>\n",
       "    </tr>\n",
       "  </tbody>\n",
       "</table>\n",
       "</div>"
      ],
      "text/plain": [
       "              text\n",
       "0       04/20/2009\n",
       "1         04/20/09\n",
       "2          4/20/09\n",
       "3           4/3/09\n",
       "4      Mar-20-2009\n",
       "5     Mar 20, 2009\n",
       "6   March 20, 2009\n",
       "7    Mar. 20, 2009\n",
       "8      Mar 20 2009\n",
       "9      20 Mar 2009\n",
       "10   20 March 2009\n",
       "11    20 Mar. 2009\n",
       "12  20 March, 2009\n",
       "13  Mar 20th, 2009\n",
       "14  Mar 21st, 2009\n",
       "15  Mar 22nd, 2009\n",
       "16        Feb 2009\n",
       "17        Sep 2009\n",
       "18        Oct 2010\n",
       "19          6/2008\n",
       "20         12/2009\n",
       "21            2009\n",
       "22            2010"
      ]
     },
     "execution_count": 2,
     "metadata": {},
     "output_type": "execute_result"
    }
   ],
   "source": [
    "d=['04/20/2009','04/20/09','4/20/09','4/3/09',\n",
    "   'Mar-20-2009','Mar 20, 2009','March 20, 2009','Mar. 20, 2009','Mar 20 2009',\n",
    "  '20 Mar 2009','20 March 2009','20 Mar. 2009','20 March, 2009',\n",
    "   'Mar 20th, 2009','Mar 21st, 2009','Mar 22nd, 2009',\n",
    "  'Feb 2009','Sep 2009','Oct 2010',\n",
    "  '6/2008','12/2009',\n",
    "  '2009', '2010']\n",
    "s=pd.Series(d)\n",
    "df=pd.DataFrame(s,columns=['text'])\n",
    "df"
   ]
  },
  {
   "cell_type": "markdown",
   "metadata": {},
   "source": [
    "### Applying regular expressions to create a dataframe with unique date type:"
   ]
  },
  {
   "cell_type": "code",
   "execution_count": 3,
   "metadata": {},
   "outputs": [],
   "source": [
    "df1=df['text'].str.extractall(r'(?P<month>\\d{1,2})/(?P<date>\\d{1,2})/(?P<year>\\d{2,4})')\n",
    "df2=df['text'].str.extractall(r'\\b(?P<month>^Jan|^Feb|^Mar|^Apr|^May|^Jun|^Jul|^Aug|^Sep|^Oct|^Nov|^Dec)[a-z]*?[-. ]*\\b(?P<date>\\d{1,2})[-, ]*\\b(?P<year>\\d{2,4}$)')\n",
    "df3=df['text'].str.extractall(r'(?P<date>\\d{1,2}) (?P<month>Jan|Feb|Mar|Apr|May|Jun|Jul|Aug|Sep|Oct|Nov|Dec)[a-z]*[-.,]* (?P<year>\\d{2,4})')\n",
    "df4=df['text'].str.extractall(r'(?P<month>^Jan|^Feb|^Mar|^Apr|^May|^Jun|^Jul|^Aug|^Sep|^Oct|^Nov|^Dec)[?=a-z]*[-. ]*(?P<date>\\d{1,2})(?:st|nd|th)[, ]*(?P<year>\\d{2,4})')\n",
    "df5=df['text'].str.extractall(r'(?P<month>^Jan|^Feb|^Mar|^Apr|^May|^Jun|^Jul|^Aug|^Sep|^Oct|^Nov|^Dec)[ -,.]*(?P<year>\\d{4})')\n",
    "df6=df['text'].str.extractall(r'(?P<month>^\\d{1,2})/(?P<year>\\d{2,4}$)')\n",
    "df7=df['text'].str.extractall(r'(?P<year>^\\d{2,4}$)')"
   ]
  },
  {
   "cell_type": "code",
   "execution_count": 4,
   "metadata": {},
   "outputs": [],
   "source": [
    "df1.reset_index(level=1, drop=True,inplace=True)\n",
    "df2.reset_index(level=1, drop=True,inplace=True)\n",
    "df3.reset_index(level=1, drop=True,inplace=True)\n",
    "df4.reset_index(level=1, drop=True,inplace=True)\n",
    "df5.reset_index(level=1, drop=True,inplace=True)\n",
    "df6.reset_index(level=1, drop=True,inplace=True)\n",
    "df7.reset_index(level=1, drop=True,inplace=True)"
   ]
  },
  {
   "cell_type": "markdown",
   "metadata": {},
   "source": [
    "### Combining all dataframes:"
   ]
  },
  {
   "cell_type": "code",
   "execution_count": 5,
   "metadata": {},
   "outputs": [],
   "source": [
    "df=pd.concat([df1,df2,df3,df4,df5,df6,df7])"
   ]
  },
  {
   "cell_type": "markdown",
   "metadata": {},
   "source": [
    "### Data Processing - converting all data in the fomat which can be converted to datetime object and sorted:"
   ]
  },
  {
   "cell_type": "code",
   "execution_count": 7,
   "metadata": {},
   "outputs": [],
   "source": [
    "df['month'].fillna('Jan',inplace=True)\n",
    "df['date'].fillna('1',inplace=True)"
   ]
  },
  {
   "cell_type": "code",
   "execution_count": 8,
   "metadata": {},
   "outputs": [],
   "source": [
    "month_dict={'Jan':'01','Feb':'02','Mar':'03','Apr':'04','May':'05','Jun':'06','Jul':'07','Aug':'08','Sep':'09','Oct':'10','Nov':'11','Dec':'12'}\n",
    "df.replace(month_dict,inplace=True)"
   ]
  },
  {
   "cell_type": "code",
   "execution_count": 10,
   "metadata": {},
   "outputs": [],
   "source": [
    "for i in range(len(df)):\n",
    "    if(len(df.loc[i,'month'])==1):\n",
    "        df.at[i,'month']='0'+df.at[i,'month']\n",
    "    if(len(df.loc[i,'date'])==1):\n",
    "        df.at[i,'date']='0'+df.at[i,'date']\n",
    "    if(len(df.loc[i,'year'])==2):\n",
    "        df.at[i,'year']='20'+df.at[i,'year']"
   ]
  },
  {
   "cell_type": "code",
   "execution_count": 17,
   "metadata": {},
   "outputs": [],
   "source": [
    "df['final_date']=df.month+' '+df.date+' '+df.year"
   ]
  },
  {
   "cell_type": "code",
   "execution_count": 19,
   "metadata": {},
   "outputs": [],
   "source": [
    "df_final=df['final_date']"
   ]
  },
  {
   "cell_type": "code",
   "execution_count": 21,
   "metadata": {},
   "outputs": [],
   "source": [
    "from datetime import datetime"
   ]
  },
  {
   "cell_type": "code",
   "execution_count": 26,
   "metadata": {},
   "outputs": [],
   "source": [
    "df_final=df_final.apply(lambda x: datetime.strptime(x,'%m %d %Y'))"
   ]
  },
  {
   "cell_type": "code",
   "execution_count": 29,
   "metadata": {},
   "outputs": [],
   "source": [
    "df_final.sort_values(ascending=True,inplace=True)"
   ]
  },
  {
   "cell_type": "code",
   "execution_count": 32,
   "metadata": {},
   "outputs": [],
   "source": [
    "final_ans=pd.Series(df_final.index)"
   ]
  },
  {
   "cell_type": "code",
   "execution_count": 33,
   "metadata": {},
   "outputs": [
    {
     "data": {
      "text/plain": [
       "0     19\n",
       "1     21\n",
       "2     16\n",
       "3     11\n",
       "4      4\n",
       "5      5\n",
       "6      6\n",
       "7      7\n",
       "8      8\n",
       "9      9\n",
       "10    10\n",
       "11    12\n",
       "12    13\n",
       "13    14\n",
       "14    15\n",
       "15     3\n",
       "16     0\n",
       "17     1\n",
       "18     2\n",
       "19    17\n",
       "20    20\n",
       "21    22\n",
       "22    18\n",
       "dtype: int64"
      ]
     },
     "execution_count": 33,
     "metadata": {},
     "output_type": "execute_result"
    }
   ],
   "source": [
    "final_ans"
   ]
  },
  {
   "cell_type": "code",
   "execution_count": null,
   "metadata": {},
   "outputs": [],
   "source": []
  }
 ],
 "metadata": {
  "kernelspec": {
   "display_name": "Python 3",
   "language": "python",
   "name": "python3"
  },
  "language_info": {
   "codemirror_mode": {
    "name": "ipython",
    "version": 3
   },
   "file_extension": ".py",
   "mimetype": "text/x-python",
   "name": "python",
   "nbconvert_exporter": "python",
   "pygments_lexer": "ipython3",
   "version": "3.7.6"
  }
 },
 "nbformat": 4,
 "nbformat_minor": 4
}
