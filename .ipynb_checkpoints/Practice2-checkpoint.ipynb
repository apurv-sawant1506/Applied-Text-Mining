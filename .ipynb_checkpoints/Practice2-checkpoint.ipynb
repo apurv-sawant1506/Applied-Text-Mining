{
 "cells": [
  {
   "cell_type": "code",
   "execution_count": 1,
   "metadata": {},
   "outputs": [],
   "source": [
    "import pandas as pd"
   ]
  },
  {
   "cell_type": "code",
   "execution_count": 2,
   "metadata": {},
   "outputs": [],
   "source": [
    "import re"
   ]
  },
  {
   "cell_type": "code",
   "execution_count": 3,
   "metadata": {},
   "outputs": [],
   "source": [
    "d=['07/15/1998',\n",
    "  '07/06/99',\n",
    "  '7/6/99',]"
   ]
  },
  {
   "cell_type": "code",
   "execution_count": 4,
   "metadata": {},
   "outputs": [],
   "source": [
    "s=pd.Series(d)"
   ]
  },
  {
   "cell_type": "code",
   "execution_count": 5,
   "metadata": {},
   "outputs": [],
   "source": [
    "df=pd.DataFrame(s,columns=['text'])"
   ]
  },
  {
   "cell_type": "code",
   "execution_count": 6,
   "metadata": {},
   "outputs": [
    {
     "data": {
      "text/html": [
       "<div>\n",
       "<style scoped>\n",
       "    .dataframe tbody tr th:only-of-type {\n",
       "        vertical-align: middle;\n",
       "    }\n",
       "\n",
       "    .dataframe tbody tr th {\n",
       "        vertical-align: top;\n",
       "    }\n",
       "\n",
       "    .dataframe thead th {\n",
       "        text-align: right;\n",
       "    }\n",
       "</style>\n",
       "<table border=\"1\" class=\"dataframe\">\n",
       "  <thead>\n",
       "    <tr style=\"text-align: right;\">\n",
       "      <th></th>\n",
       "      <th>text</th>\n",
       "    </tr>\n",
       "  </thead>\n",
       "  <tbody>\n",
       "    <tr>\n",
       "      <th>0</th>\n",
       "      <td>07/15/1998</td>\n",
       "    </tr>\n",
       "    <tr>\n",
       "      <th>1</th>\n",
       "      <td>07/06/99</td>\n",
       "    </tr>\n",
       "    <tr>\n",
       "      <th>2</th>\n",
       "      <td>7/6/99</td>\n",
       "    </tr>\n",
       "  </tbody>\n",
       "</table>\n",
       "</div>"
      ],
      "text/plain": [
       "         text\n",
       "0  07/15/1998\n",
       "1    07/06/99\n",
       "2      7/6/99"
      ]
     },
     "execution_count": 6,
     "metadata": {},
     "output_type": "execute_result"
    }
   ],
   "source": [
    "df"
   ]
  },
  {
   "cell_type": "code",
   "execution_count": 7,
   "metadata": {},
   "outputs": [
    {
     "name": "stdout",
     "output_type": "stream",
     "text": [
      "07/15/1998\n",
      "07/06/99\n",
      "7/6/99\n"
     ]
    }
   ],
   "source": [
    "for i in range(len(df)):\n",
    "    try:\n",
    "        match=re.search(r'(\\d?\\d)/(\\d?\\d)/(\\d?\\d?\\d\\d)',df.loc[i,'text'])\n",
    "        print(match.group())\n",
    "    except:\n",
    "        pass"
   ]
  },
  {
   "cell_type": "code",
   "execution_count": 8,
   "metadata": {},
   "outputs": [],
   "source": [
    "txt1='04/20/2009 ; 04/20/09 ; 4/20/09 ; 4/3/09'"
   ]
  },
  {
   "cell_type": "code",
   "execution_count": 9,
   "metadata": {},
   "outputs": [],
   "source": [
    "txt2='Mar-20-2009 ; Mar 20, 2009 ; March 20, 2009 ; Mar. 20, 2009 ; Mar 20 2009 ; 20 Mar 2009 ; 20 March 2009 ; 20 Mar. 2009 ; 20 March, 2009 ; Mar 20th, 2009 ; Mar 21st, 2009 ; Mar 22nd, 2009'"
   ]
  },
  {
   "cell_type": "markdown",
   "metadata": {},
   "source": [
    "r'(?:\\d{1,2} )?(?:Mar)[a-z.,]*[- ](?:\\d{1,2}(?:st|nd|rd|th)?[-, ]*)?\\d{2,4}'"
   ]
  },
  {
   "cell_type": "code",
   "execution_count": 10,
   "metadata": {},
   "outputs": [],
   "source": [
    "txt4='Feb 2009 ; Sep 2009 ; Oct 2010'"
   ]
  },
  {
   "cell_type": "code",
   "execution_count": 11,
   "metadata": {},
   "outputs": [],
   "source": [
    "txt5='6/2008 ; 12/2009'"
   ]
  },
  {
   "cell_type": "code",
   "execution_count": 12,
   "metadata": {},
   "outputs": [],
   "source": [
    "txt6='2009 ; 2010'"
   ]
  },
  {
   "cell_type": "code",
   "execution_count": 13,
   "metadata": {},
   "outputs": [],
   "source": [
    "connector=' ; '"
   ]
  },
  {
   "cell_type": "code",
   "execution_count": 14,
   "metadata": {},
   "outputs": [
    {
     "data": {
      "text/plain": [
       "'04/20/2009 ; 04/20/09 ; 4/20/09 ; 4/3/09 ; Mar-20-2009 ; Mar 20, 2009 ; March 20, 2009 ; Mar. 20, 2009 ; Mar 20 2009 ; 20 Mar 2009 ; 20 March 2009 ; 20 Mar. 2009 ; 20 March, 2009 ; Mar 20th, 2009 ; Mar 21st, 2009 ; Mar 22nd, 2009 ; Feb 2009 ; Sep 2009 ; Oct 2010 ; 6/2008 ; 12/2009 ; 2009 ; 2010'"
      ]
     },
     "execution_count": 14,
     "metadata": {},
     "output_type": "execute_result"
    }
   ],
   "source": [
    "txt3=txt1+connector+txt2+connector+txt4+connector+txt5+connector+txt6\n",
    "txt3"
   ]
  },
  {
   "cell_type": "code",
   "execution_count": 15,
   "metadata": {},
   "outputs": [],
   "source": [
    "result=re.findall(r'(?:\\d{1,2}[/ ]*)?(?:(?:Jan|Feb|Mar|Apr|May|Jun|Jul|Aug|Sep|Oct|Nov|Dec)[a-z.,]*[- ])?(?:\\d{1,2}(?:st|nd|rd|th)?[-/, ]*)?\\d{2,4}',txt3)"
   ]
  },
  {
   "cell_type": "code",
   "execution_count": 16,
   "metadata": {},
   "outputs": [],
   "source": [
    "list1=['04/20/2009','04/20/09','4/20/09','4/3/09']"
   ]
  },
  {
   "cell_type": "code",
   "execution_count": 17,
   "metadata": {},
   "outputs": [],
   "source": [
    "list2=['Mar-20-2009','Mar 20, 2009','March 20, 2009','Mar. 20, 2009','Mar 20 2009']"
   ]
  },
  {
   "cell_type": "code",
   "execution_count": 18,
   "metadata": {},
   "outputs": [],
   "source": [
    "list3=['20 Mar 2009','20 March 2009','20 Mar. 2009','20 March, 2009']"
   ]
  },
  {
   "cell_type": "code",
   "execution_count": 19,
   "metadata": {},
   "outputs": [],
   "source": [
    "list4=['Mar 20th, 2009','Mar 21st, 2009','Mar 22nd, 2009']"
   ]
  },
  {
   "cell_type": "code",
   "execution_count": 20,
   "metadata": {},
   "outputs": [],
   "source": [
    "list5=['Feb 2009','Sep 2009','Oct 2010']"
   ]
  },
  {
   "cell_type": "code",
   "execution_count": 21,
   "metadata": {},
   "outputs": [],
   "source": [
    "list6=['6/2008','12/2009']"
   ]
  },
  {
   "cell_type": "code",
   "execution_count": 22,
   "metadata": {},
   "outputs": [],
   "source": [
    "list7=['2009', '2010']"
   ]
  },
  {
   "cell_type": "code",
   "execution_count": 23,
   "metadata": {},
   "outputs": [],
   "source": [
    "list8=list1+list2+list3+list4+list5+list6+list7"
   ]
  },
  {
   "cell_type": "code",
   "execution_count": 35,
   "metadata": {},
   "outputs": [],
   "source": [
    "type1=[]\n",
    "type2=[]\n",
    "type3=[]\n",
    "type4=[]\n",
    "type5=[]\n",
    "type6=[]\n",
    "type7=[]"
   ]
  },
  {
   "cell_type": "code",
   "execution_count": 36,
   "metadata": {},
   "outputs": [],
   "source": [
    "for i in range(len(list8)):\n",
    "    if(re.search(r'\\d{1,2}/\\d{1,2}/\\d{2,4}',list8[i])):\n",
    "        type1.append(list8[i])\n",
    "    elif(re.search(r'(?:^Jan|^Feb|^Mar|^Apr|^May|^Jun|^Jul|^Aug|^Sep|^Oct|^Nov|^Dec)[a-z]*[-. ]*(?:\\d{1,2}[-, ]*)\\d{2,4}',list8[i])):\n",
    "        type2.append(list8[i])\n",
    "    elif(re.search(r'\\d{1,2} (?:Jan|Feb|Mar|Apr|May|Jun|Jul|Aug|Sep|Oct|Nov|Dec)[a-z]*[-.,]* \\d{2,4}',list8[i])):\n",
    "        type3.append(list8[i])\n",
    "    elif(re.search(r'(?:^Jan|^Feb|^Mar|^Apr|^May|^Jun|^Jul|^Aug|^Sep|^Oct|^Nov|^Dec)[?=a-z]*[-. ]*(\\d{1,2})(st|nd|th)[, ]*\\d{2,4}',list8[i])):\n",
    "        type4.append(list8[i])\n",
    "    elif(re.search(r'(?:^Jan|^Feb|^Mar|^Apr|^May|^Jun|^Jul|^Aug|^Sep|^Oct|^Nov|^Dec)[ -,.]*\\d{2,4}',list8[i])):\n",
    "        type5.append(list8[i])\n",
    "    elif(re.search(r'\\d{1,2}/\\d{2,4}',list8[i])):\n",
    "        type6.append(list8[i])\n",
    "    elif(re.search(r'(?:^\\d{2,4})',list8[i])):\n",
    "        type7.append(list8[i])"
   ]
  },
  {
   "cell_type": "code",
   "execution_count": 37,
   "metadata": {},
   "outputs": [
    {
     "name": "stdout",
     "output_type": "stream",
     "text": [
      "['04/20/2009', '04/20/09', '4/20/09', '4/3/09']\n",
      "['Mar-20-2009', 'Mar 20, 2009', 'March 20, 2009', 'Mar. 20, 2009', 'Mar 20 2009', 'Feb 2009', 'Sep 2009', 'Oct 2010']\n",
      "['20 Mar 2009', '20 March 2009', '20 Mar. 2009', '20 March, 2009']\n",
      "['Mar 20th, 2009', 'Mar 21st, 2009', 'Mar 22nd, 2009']\n",
      "[]\n",
      "['6/2008', '12/2009']\n",
      "['2009', '2010']\n"
     ]
    }
   ],
   "source": [
    "print(type1) #correct\n",
    "print(type2) #\n",
    "print(type3)\n",
    "print(type4)\n",
    "print(type5)\n",
    "print(type6)\n",
    "print(type7)"
   ]
  },
  {
   "cell_type": "code",
   "execution_count": 27,
   "metadata": {},
   "outputs": [],
   "source": [
    "# r'\\d{1,2}/\\d{1,2}/\\d{2,4}' type1\n",
    "# r'(?:^Jan|^Feb|^Mar|^Apr|^May|^Jun|^Jul|^Aug|^Sep|^Oct|^Nov|^Dec)[a-z]*[-. ]*(?:\\d{1,2}[-, ]*)\\d{2,4}' type2\n",
    "# r'\\d{1,2} (?:Jan|Feb|Mar|Apr|May|Jun|Jul|Aug|Sep|Oct|Nov|Dec)[a-z]*[-.,]* \\d{2,4}' type3\n",
    "# r'(?:^Jan|^Feb|^Mar|^Apr|^May|^Jun|^Jul|^Aug|^Sep|^Oct|^Nov|^Dec)[?=a-z]*[-. ]*(\\d{1,2})(st|nd|th)[, ]*\\d{2,4}' type4\n",
    "# r'(?:^Jan|^Feb|^Mar|^Apr|^May|^Jun|^Jul|^Aug|^Sep|^Oct|^Nov|^Dec)[ -,.]*\\d{2,4}' type5\n",
    "# r'\\d{1,2}/\\d{2,4}' type6\n",
    "# r'(?:^\\d{2,4})' type7"
   ]
  },
  {
   "cell_type": "code",
   "execution_count": 38,
   "metadata": {},
   "outputs": [
    {
     "data": {
      "text/html": [
       "<div>\n",
       "<style scoped>\n",
       "    .dataframe tbody tr th:only-of-type {\n",
       "        vertical-align: middle;\n",
       "    }\n",
       "\n",
       "    .dataframe tbody tr th {\n",
       "        vertical-align: top;\n",
       "    }\n",
       "\n",
       "    .dataframe thead th {\n",
       "        text-align: right;\n",
       "    }\n",
       "</style>\n",
       "<table border=\"1\" class=\"dataframe\">\n",
       "  <thead>\n",
       "    <tr style=\"text-align: right;\">\n",
       "      <th></th>\n",
       "      <th>text</th>\n",
       "    </tr>\n",
       "  </thead>\n",
       "  <tbody>\n",
       "    <tr>\n",
       "      <th>0</th>\n",
       "      <td>07/15/1998</td>\n",
       "    </tr>\n",
       "    <tr>\n",
       "      <th>1</th>\n",
       "      <td>07/06/99</td>\n",
       "    </tr>\n",
       "    <tr>\n",
       "      <th>2</th>\n",
       "      <td>7/6/99</td>\n",
       "    </tr>\n",
       "  </tbody>\n",
       "</table>\n",
       "</div>"
      ],
      "text/plain": [
       "         text\n",
       "0  07/15/1998\n",
       "1    07/06/99\n",
       "2      7/6/99"
      ]
     },
     "execution_count": 38,
     "metadata": {},
     "output_type": "execute_result"
    }
   ],
   "source": [
    "df"
   ]
  },
  {
   "cell_type": "code",
   "execution_count": 47,
   "metadata": {},
   "outputs": [
    {
     "data": {
      "text/html": [
       "<div>\n",
       "<style scoped>\n",
       "    .dataframe tbody tr th:only-of-type {\n",
       "        vertical-align: middle;\n",
       "    }\n",
       "\n",
       "    .dataframe tbody tr th {\n",
       "        vertical-align: top;\n",
       "    }\n",
       "\n",
       "    .dataframe thead th {\n",
       "        text-align: right;\n",
       "    }\n",
       "</style>\n",
       "<table border=\"1\" class=\"dataframe\">\n",
       "  <thead>\n",
       "    <tr style=\"text-align: right;\">\n",
       "      <th></th>\n",
       "      <th></th>\n",
       "      <th>month</th>\n",
       "      <th>date</th>\n",
       "      <th>year</th>\n",
       "    </tr>\n",
       "    <tr>\n",
       "      <th></th>\n",
       "      <th>match</th>\n",
       "      <th></th>\n",
       "      <th></th>\n",
       "      <th></th>\n",
       "    </tr>\n",
       "  </thead>\n",
       "  <tbody>\n",
       "    <tr>\n",
       "      <th>0</th>\n",
       "      <th>0</th>\n",
       "      <td>07</td>\n",
       "      <td>15</td>\n",
       "      <td>1998</td>\n",
       "    </tr>\n",
       "    <tr>\n",
       "      <th>1</th>\n",
       "      <th>0</th>\n",
       "      <td>07</td>\n",
       "      <td>06</td>\n",
       "      <td>99</td>\n",
       "    </tr>\n",
       "    <tr>\n",
       "      <th>2</th>\n",
       "      <th>0</th>\n",
       "      <td>7</td>\n",
       "      <td>6</td>\n",
       "      <td>99</td>\n",
       "    </tr>\n",
       "  </tbody>\n",
       "</table>\n",
       "</div>"
      ],
      "text/plain": [
       "        month date  year\n",
       "  match                 \n",
       "0 0        07   15  1998\n",
       "1 0        07   06    99\n",
       "2 0         7    6    99"
      ]
     },
     "execution_count": 47,
     "metadata": {},
     "output_type": "execute_result"
    }
   ],
   "source": [
    "df['text'].str.extractall(r'(?P<month>\\d{1,2})/(?P<date>\\d{1,2})/(?P<year>\\d{2,4})')"
   ]
  },
  {
   "cell_type": "code",
   "execution_count": null,
   "metadata": {},
   "outputs": [],
   "source": []
  }
 ],
 "metadata": {
  "kernelspec": {
   "display_name": "Python 3",
   "language": "python",
   "name": "python3"
  },
  "language_info": {
   "codemirror_mode": {
    "name": "ipython",
    "version": 3
   },
   "file_extension": ".py",
   "mimetype": "text/x-python",
   "name": "python",
   "nbconvert_exporter": "python",
   "pygments_lexer": "ipython3",
   "version": "3.7.6"
  }
 },
 "nbformat": 4,
 "nbformat_minor": 4
}
